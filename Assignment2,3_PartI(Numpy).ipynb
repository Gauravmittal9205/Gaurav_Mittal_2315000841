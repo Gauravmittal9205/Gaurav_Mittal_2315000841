{
 "cells": [
  {
   "cell_type": "markdown",
   "id": "013db31c",
   "metadata": {},
   "source": [
    "TASK 1 (Creating Arrays)"
   ]
  },
  {
   "cell_type": "code",
   "execution_count": 103,
   "id": "47154d3b",
   "metadata": {},
   "outputs": [],
   "source": [
    "import numpy as np\n",
    "import time"
   ]
  },
  {
   "cell_type": "code",
   "execution_count": 104,
   "id": "4d464475",
   "metadata": {},
   "outputs": [],
   "source": [
    "ar_1d=np.arange(1,11)"
   ]
  },
  {
   "cell_type": "code",
   "execution_count": 105,
   "id": "46c30452",
   "metadata": {},
   "outputs": [
    {
     "data": {
      "text/plain": [
       "array([ 1,  2,  3,  4,  5,  6,  7,  8,  9, 10])"
      ]
     },
     "execution_count": 105,
     "metadata": {},
     "output_type": "execute_result"
    }
   ],
   "source": [
    "ar_1d"
   ]
  },
  {
   "cell_type": "code",
   "execution_count": 106,
   "id": "43793b6e",
   "metadata": {},
   "outputs": [
    {
     "data": {
      "text/plain": [
       "array([[1, 2, 3],\n",
       "       [4, 5, 6],\n",
       "       [7, 8, 9]])"
      ]
     },
     "execution_count": 106,
     "metadata": {},
     "output_type": "execute_result"
    }
   ],
   "source": [
    "ar_2d=np.arange(1,10).reshape(3,3)\n",
    "ar_2d"
   ]
  },
  {
   "cell_type": "code",
   "execution_count": 107,
   "id": "c6b10f51",
   "metadata": {},
   "outputs": [],
   "source": [
    "ar_3d=np.random.rand(3,5,3)"
   ]
  },
  {
   "cell_type": "code",
   "execution_count": 108,
   "id": "8a0aa4f8",
   "metadata": {},
   "outputs": [
    {
     "data": {
      "text/plain": [
       "array([[[0.39217296, 0.04115659, 0.92330057],\n",
       "        [0.40623497, 0.94428218, 0.72272449],\n",
       "        [0.91831995, 0.82326754, 0.6468967 ],\n",
       "        [0.06793902, 0.83881577, 0.6928224 ],\n",
       "        [0.95799151, 0.14222247, 0.08777354]],\n",
       "\n",
       "       [[0.51887998, 0.35993237, 0.96027368],\n",
       "        [0.70377222, 0.44599407, 0.19220875],\n",
       "        [0.44288141, 0.46628642, 0.00914256],\n",
       "        [0.25721541, 0.2453717 , 0.38102144],\n",
       "        [0.42403833, 0.26753056, 0.11264625]],\n",
       "\n",
       "       [[0.13867957, 0.68820216, 0.95588973],\n",
       "        [0.34485436, 0.14278639, 0.2600578 ],\n",
       "        [0.15217505, 0.19473966, 0.66216051],\n",
       "        [0.38492733, 0.25045429, 0.58115791],\n",
       "        [0.89782395, 0.02442901, 0.59671877]]])"
      ]
     },
     "execution_count": 108,
     "metadata": {},
     "output_type": "execute_result"
    }
   ],
   "source": [
    "ar_3d"
   ]
  },
  {
   "cell_type": "code",
   "execution_count": 109,
   "id": "5e8aea66",
   "metadata": {},
   "outputs": [
    {
     "data": {
      "text/plain": [
       "(10,)"
      ]
     },
     "execution_count": 109,
     "metadata": {},
     "output_type": "execute_result"
    }
   ],
   "source": [
    "np.shape(ar_1d)\n"
   ]
  },
  {
   "cell_type": "code",
   "execution_count": 110,
   "id": "20cde15f",
   "metadata": {},
   "outputs": [
    {
     "data": {
      "text/plain": [
       "(3, 3)"
      ]
     },
     "execution_count": 110,
     "metadata": {},
     "output_type": "execute_result"
    }
   ],
   "source": [
    "np.shape(ar_2d)"
   ]
  },
  {
   "cell_type": "code",
   "execution_count": 111,
   "id": "c1b44cde",
   "metadata": {},
   "outputs": [
    {
     "data": {
      "text/plain": [
       "(3, 5, 3)"
      ]
     },
     "execution_count": 111,
     "metadata": {},
     "output_type": "execute_result"
    }
   ],
   "source": [
    "np.shape(ar_3d)"
   ]
  },
  {
   "cell_type": "code",
   "execution_count": 112,
   "id": "8d18bb3e",
   "metadata": {},
   "outputs": [
    {
     "data": {
      "text/plain": [
       "45"
      ]
     },
     "execution_count": 112,
     "metadata": {},
     "output_type": "execute_result"
    }
   ],
   "source": [
    "np.size(ar_3d)"
   ]
  },
  {
   "cell_type": "code",
   "execution_count": 113,
   "id": "6ad1f049",
   "metadata": {},
   "outputs": [
    {
     "data": {
      "text/plain": [
       "10"
      ]
     },
     "execution_count": 113,
     "metadata": {},
     "output_type": "execute_result"
    }
   ],
   "source": [
    "np.size(ar_1d)"
   ]
  },
  {
   "cell_type": "code",
   "execution_count": 114,
   "id": "ba5e1a46",
   "metadata": {},
   "outputs": [
    {
     "data": {
      "text/plain": [
       "9"
      ]
     },
     "execution_count": 114,
     "metadata": {},
     "output_type": "execute_result"
    }
   ],
   "source": [
    "np.size(ar_2d)"
   ]
  },
  {
   "cell_type": "code",
   "execution_count": 115,
   "id": "16aae02d",
   "metadata": {},
   "outputs": [
    {
     "data": {
      "text/plain": [
       "dtype('int64')"
      ]
     },
     "execution_count": 115,
     "metadata": {},
     "output_type": "execute_result"
    }
   ],
   "source": [
    "ar_1d.dtype"
   ]
  },
  {
   "cell_type": "code",
   "execution_count": 116,
   "id": "40de3394",
   "metadata": {},
   "outputs": [
    {
     "data": {
      "text/plain": [
       "dtype('int64')"
      ]
     },
     "execution_count": 116,
     "metadata": {},
     "output_type": "execute_result"
    }
   ],
   "source": [
    "ar_2d.dtype"
   ]
  },
  {
   "cell_type": "code",
   "execution_count": 117,
   "id": "45fafbb9",
   "metadata": {},
   "outputs": [
    {
     "data": {
      "text/plain": [
       "dtype('float64')"
      ]
     },
     "execution_count": 117,
     "metadata": {},
     "output_type": "execute_result"
    }
   ],
   "source": [
    "ar_3d.dtype"
   ]
  },
  {
   "cell_type": "markdown",
   "id": "ecc52ebc",
   "metadata": {},
   "source": [
    "TASK 2 (Array Indexing and Slicing)"
   ]
  },
  {
   "cell_type": "code",
   "execution_count": 118,
   "id": "7602f384",
   "metadata": {},
   "outputs": [
    {
     "data": {
      "text/plain": [
       "array([10, 20, 30, 40, 50, 60, 70, 80, 90])"
      ]
     },
     "execution_count": 118,
     "metadata": {},
     "output_type": "execute_result"
    }
   ],
   "source": [
    "data=[10,20,30,40,50,60,70,80,90]\n",
    "arr=np.array(data)\n",
    "arr"
   ]
  },
  {
   "cell_type": "code",
   "execution_count": 119,
   "id": "3ae8a790",
   "metadata": {},
   "outputs": [
    {
     "data": {
      "text/plain": [
       "array([10, 20, 30])"
      ]
     },
     "execution_count": 119,
     "metadata": {},
     "output_type": "execute_result"
    }
   ],
   "source": [
    "arr[0:3]"
   ]
  },
  {
   "cell_type": "code",
   "execution_count": 120,
   "id": "a906d4ae",
   "metadata": {},
   "outputs": [
    {
     "data": {
      "text/plain": [
       "array([10, 30, 50, 70, 90])"
      ]
     },
     "execution_count": 120,
     "metadata": {},
     "output_type": "execute_result"
    }
   ],
   "source": [
    "arr[0::2]"
   ]
  },
  {
   "cell_type": "code",
   "execution_count": 121,
   "id": "20fed4f6",
   "metadata": {},
   "outputs": [
    {
     "data": {
      "text/plain": [
       "array([90, 80, 70, 60, 50, 40, 30, 20, 10])"
      ]
     },
     "execution_count": 121,
     "metadata": {},
     "output_type": "execute_result"
    }
   ],
   "source": [
    "arr[-1::-1]"
   ]
  },
  {
   "cell_type": "markdown",
   "id": "c33f8372",
   "metadata": {},
   "source": [
    "TASK 3 (Mathematical Operation)"
   ]
  },
  {
   "cell_type": "code",
   "execution_count": 122,
   "id": "6f0c3622",
   "metadata": {},
   "outputs": [
    {
     "data": {
      "text/plain": [
       "(array([17,  5,  5, 14,  8], dtype=int32),\n",
       " array([ 3, 12,  3,  8, 18], dtype=int32))"
      ]
     },
     "execution_count": 122,
     "metadata": {},
     "output_type": "execute_result"
    }
   ],
   "source": [
    "A=np.random.randint(1,20,size=5)\n",
    "B=np.random.randint(1,20,size=5)\n",
    "A,B"
   ]
  },
  {
   "cell_type": "code",
   "execution_count": 123,
   "id": "696c84ea",
   "metadata": {},
   "outputs": [
    {
     "data": {
      "text/plain": [
       "array([20, 17,  8, 22, 26], dtype=int32)"
      ]
     },
     "execution_count": 123,
     "metadata": {},
     "output_type": "execute_result"
    }
   ],
   "source": [
    "add=A+B\n",
    "add"
   ]
  },
  {
   "cell_type": "code",
   "execution_count": 124,
   "id": "a3b2cb16",
   "metadata": {},
   "outputs": [
    {
     "data": {
      "text/plain": [
       "array([ 14,  -7,   2,   6, -10], dtype=int32)"
      ]
     },
     "execution_count": 124,
     "metadata": {},
     "output_type": "execute_result"
    }
   ],
   "source": [
    "sub=A-B\n",
    "sub"
   ]
  },
  {
   "cell_type": "code",
   "execution_count": 125,
   "id": "573f59b1",
   "metadata": {},
   "outputs": [
    {
     "data": {
      "text/plain": [
       "array([ 51,  60,  15, 112, 144], dtype=int32)"
      ]
     },
     "execution_count": 125,
     "metadata": {},
     "output_type": "execute_result"
    }
   ],
   "source": [
    "mul=A*B\n",
    "mul"
   ]
  },
  {
   "cell_type": "code",
   "execution_count": 126,
   "id": "4e6477a9",
   "metadata": {},
   "outputs": [
    {
     "data": {
      "text/plain": [
       "array([5.66666667, 0.41666667, 1.66666667, 1.75      , 0.44444444])"
      ]
     },
     "execution_count": 126,
     "metadata": {},
     "output_type": "execute_result"
    }
   ],
   "source": [
    "div=A/B\n",
    "div"
   ]
  },
  {
   "cell_type": "code",
   "execution_count": 127,
   "id": "b803bb7f",
   "metadata": {},
   "outputs": [
    {
     "data": {
      "text/plain": [
       "array([ 51,  60,  15, 112, 144], dtype=int32)"
      ]
     },
     "execution_count": 127,
     "metadata": {},
     "output_type": "execute_result"
    }
   ],
   "source": [
    "dot_pro=A*B\n",
    "dot_pro"
   ]
  },
  {
   "cell_type": "code",
   "execution_count": 128,
   "id": "503bf46d",
   "metadata": {},
   "outputs": [
    {
     "data": {
      "text/plain": [
       "np.float64(9.8)"
      ]
     },
     "execution_count": 128,
     "metadata": {},
     "output_type": "execute_result"
    }
   ],
   "source": [
    "A.mean()"
   ]
  },
  {
   "cell_type": "code",
   "execution_count": 129,
   "id": "d0228fad",
   "metadata": {},
   "outputs": [
    {
     "data": {
      "text/plain": [
       "np.float64(4.874423042781577)"
      ]
     },
     "execution_count": 129,
     "metadata": {},
     "output_type": "execute_result"
    }
   ],
   "source": [
    "A.std()"
   ]
  },
  {
   "cell_type": "code",
   "execution_count": 130,
   "id": "c2e44f77",
   "metadata": {},
   "outputs": [
    {
     "data": {
      "text/plain": [
       "np.float64(23.76)"
      ]
     },
     "execution_count": 130,
     "metadata": {},
     "output_type": "execute_result"
    }
   ],
   "source": [
    "A.var()"
   ]
  },
  {
   "cell_type": "code",
   "execution_count": 131,
   "id": "3b2d9161",
   "metadata": {},
   "outputs": [
    {
     "data": {
      "text/plain": [
       "np.float64(8.0)"
      ]
     },
     "execution_count": 131,
     "metadata": {},
     "output_type": "execute_result"
    }
   ],
   "source": [
    "np.median(A)"
   ]
  },
  {
   "cell_type": "code",
   "execution_count": 132,
   "id": "f9575c12",
   "metadata": {},
   "outputs": [
    {
     "data": {
      "text/plain": [
       "(np.int32(3), np.int32(18))"
      ]
     },
     "execution_count": 132,
     "metadata": {},
     "output_type": "execute_result"
    }
   ],
   "source": [
    "B.min(),B.max()"
   ]
  },
  {
   "cell_type": "markdown",
   "id": "026fd808",
   "metadata": {},
   "source": [
    "TASK 4 (Reshaping and Transposing)"
   ]
  },
  {
   "cell_type": "code",
   "execution_count": 133,
   "id": "4a007c95",
   "metadata": {},
   "outputs": [
    {
     "data": {
      "text/plain": [
       "array([ 1,  2,  3,  4,  5,  6,  7,  8,  9, 10, 11, 12])"
      ]
     },
     "execution_count": 133,
     "metadata": {},
     "output_type": "execute_result"
    }
   ],
   "source": [
    "arr=np.arange(1,13)\n",
    "arr"
   ]
  },
  {
   "cell_type": "code",
   "execution_count": 134,
   "id": "e167f83f",
   "metadata": {},
   "outputs": [
    {
     "data": {
      "text/plain": [
       "array([[ 1,  2,  3],\n",
       "       [ 4,  5,  6],\n",
       "       [ 7,  8,  9],\n",
       "       [10, 11, 12]])"
      ]
     },
     "execution_count": 134,
     "metadata": {},
     "output_type": "execute_result"
    }
   ],
   "source": [
    "arr_2D=arr.reshape(4,3)\n",
    "arr_2D"
   ]
  },
  {
   "cell_type": "code",
   "execution_count": 135,
   "id": "4ae38293",
   "metadata": {},
   "outputs": [
    {
     "data": {
      "text/plain": [
       "array([[[ 1,  2,  3],\n",
       "        [ 4,  5,  6]],\n",
       "\n",
       "       [[ 7,  8,  9],\n",
       "        [10, 11, 12]]])"
      ]
     },
     "execution_count": 135,
     "metadata": {},
     "output_type": "execute_result"
    }
   ],
   "source": [
    "arr.reshape(2,2,3)"
   ]
  },
  {
   "cell_type": "code",
   "execution_count": 136,
   "id": "9351cdbb",
   "metadata": {},
   "outputs": [
    {
     "data": {
      "text/plain": [
       "array([[ 1,  4,  7, 10],\n",
       "       [ 2,  5,  8, 11],\n",
       "       [ 3,  6,  9, 12]])"
      ]
     },
     "execution_count": 136,
     "metadata": {},
     "output_type": "execute_result"
    }
   ],
   "source": [
    "arr_2D.T"
   ]
  },
  {
   "cell_type": "code",
   "execution_count": 137,
   "id": "4e428acd",
   "metadata": {},
   "outputs": [
    {
     "data": {
      "text/plain": [
       "(3, 4)"
      ]
     },
     "execution_count": 137,
     "metadata": {},
     "output_type": "execute_result"
    }
   ],
   "source": [
    "np.shape(arr_2D.T)"
   ]
  },
  {
   "cell_type": "markdown",
   "id": "20f8bce0",
   "metadata": {},
   "source": [
    "TASK 5 (Boolean Masking and Filtering)"
   ]
  },
  {
   "cell_type": "code",
   "execution_count": 138,
   "id": "57559bc9",
   "metadata": {},
   "outputs": [
    {
     "data": {
      "text/plain": [
       "array([44, 47, 24, 16, 11, 45, 23, 13, 45, 36, 32, 21, 40, 49, 12],\n",
       "      dtype=int32)"
      ]
     },
     "execution_count": 138,
     "metadata": {},
     "output_type": "execute_result"
    }
   ],
   "source": [
    "arr=np.random.randint(10,50,size=15)\n",
    "arr"
   ]
  },
  {
   "cell_type": "code",
   "execution_count": 139,
   "id": "f7fca71c",
   "metadata": {},
   "outputs": [
    {
     "data": {
      "text/plain": [
       "array([44, 47, 45, 45, 36, 32, 40, 49], dtype=int32)"
      ]
     },
     "execution_count": 139,
     "metadata": {},
     "output_type": "execute_result"
    }
   ],
   "source": [
    "arr[arr>25]"
   ]
  },
  {
   "cell_type": "code",
   "execution_count": 140,
   "id": "e8814e7d",
   "metadata": {},
   "outputs": [
    {
     "data": {
      "text/plain": [
       "array([44, 47,  0,  0,  0, 45,  0,  0, 45, 36, 32,  0, 40, 49,  0],\n",
       "      dtype=int32)"
      ]
     },
     "execution_count": 140,
     "metadata": {},
     "output_type": "execute_result"
    }
   ],
   "source": [
    "arr[arr<30]=0\n",
    "arr"
   ]
  },
  {
   "cell_type": "code",
   "execution_count": 141,
   "id": "3ba4fd74",
   "metadata": {},
   "outputs": [
    {
     "data": {
      "text/plain": [
       "10"
      ]
     },
     "execution_count": 141,
     "metadata": {},
     "output_type": "execute_result"
    }
   ],
   "source": [
    "count=arr[arr%5==0]\n",
    "len(count)"
   ]
  },
  {
   "cell_type": "markdown",
   "id": "7e0a098e",
   "metadata": {},
   "source": [
    "TASK 6 (Working with built in Functions)"
   ]
  },
  {
   "cell_type": "code",
   "execution_count": 142,
   "id": "33694778",
   "metadata": {},
   "outputs": [
    {
     "data": {
      "text/plain": [
       "array([0.        , 0.11111111, 0.22222222, 0.33333333, 0.44444444,\n",
       "       0.55555556, 0.66666667, 0.77777778, 0.88888889, 1.        ])"
      ]
     },
     "execution_count": 142,
     "metadata": {},
     "output_type": "execute_result"
    }
   ],
   "source": [
    "ar=np.linspace(0,1,10)\n",
    "ar"
   ]
  },
  {
   "cell_type": "code",
   "execution_count": 143,
   "id": "807cda32",
   "metadata": {},
   "outputs": [
    {
     "data": {
      "text/plain": [
       "array([[1., 0., 0., 0.],\n",
       "       [0., 1., 0., 0.],\n",
       "       [0., 0., 1., 0.],\n",
       "       [0., 0., 0., 1.]])"
      ]
     },
     "execution_count": 143,
     "metadata": {},
     "output_type": "execute_result"
    }
   ],
   "source": [
    "ar=np.identity(4)\n",
    "ar"
   ]
  },
  {
   "cell_type": "code",
   "execution_count": 144,
   "id": "195a29e0",
   "metadata": {},
   "outputs": [
    {
     "data": {
      "text/plain": [
       "array([27, 65, 77,  9, 66, 48, 29, 54, 54, 25,  4, 32, 26, 51, 86, 58, 99,\n",
       "       79, 88, 54], dtype=int32)"
      ]
     },
     "execution_count": 144,
     "metadata": {},
     "output_type": "execute_result"
    }
   ],
   "source": [
    "ar_ran=np.random.randint(1,100,size=20)\n",
    "ar_ran"
   ]
  },
  {
   "cell_type": "code",
   "execution_count": 145,
   "id": "b340152f",
   "metadata": {},
   "outputs": [
    {
     "data": {
      "text/plain": [
       "array([ 4,  9, 25, 26, 27, 29, 32, 48, 51, 54, 54, 54, 58, 65, 66, 77, 79,\n",
       "       86, 88, 99], dtype=int32)"
      ]
     },
     "execution_count": 145,
     "metadata": {},
     "output_type": "execute_result"
    }
   ],
   "source": [
    "ar_ran.sort()\n",
    "ar_ran"
   ]
  },
  {
   "cell_type": "code",
   "execution_count": 146,
   "id": "29ee9569",
   "metadata": {},
   "outputs": [
    {
     "data": {
      "text/plain": [
       "array([77, 79, 86, 88, 99], dtype=int32)"
      ]
     },
     "execution_count": 146,
     "metadata": {},
     "output_type": "execute_result"
    }
   ],
   "source": [
    "ar_ran[len(ar_ran)-5:len(ar_ran)]"
   ]
  },
  {
   "cell_type": "markdown",
   "id": "e6a82a7c",
   "metadata": {},
   "source": [
    "TASK 7 (Generic)"
   ]
  },
  {
   "cell_type": "code",
   "execution_count": 147,
   "id": "c06964c9",
   "metadata": {},
   "outputs": [],
   "source": [
    "np.random.seed(0)\n",
    "A = np.random.rand(100, 100)\n",
    "B = np.random.rand(100, 100)"
   ]
  },
  {
   "cell_type": "code",
   "execution_count": 148,
   "id": "548d7441",
   "metadata": {},
   "outputs": [],
   "source": [
    "start_time = time.time()\n",
    "C = np.dot(A, B) "
   ]
  },
  {
   "cell_type": "code",
   "execution_count": 149,
   "id": "00a34984",
   "metadata": {},
   "outputs": [
    {
     "name": "stdout",
     "output_type": "stream",
     "text": [
      "Determinant of the result matrix: 6.0159e+50\n"
     ]
    }
   ],
   "source": [
    "try:\n",
    "    det_C = np.linalg.det(C)\n",
    "    print(f\"Determinant of the result matrix: {det_C:.4e}\")\n",
    "except np.linalg.LinAlgError:\n",
    "    print(\"Determinant could not be calculated.\")"
   ]
  },
  {
   "cell_type": "code",
   "execution_count": 150,
   "id": "96fc635d",
   "metadata": {},
   "outputs": [
    {
     "name": "stdout",
     "output_type": "stream",
     "text": [
      "Inverse matrix calculated successfully.\n"
     ]
    }
   ],
   "source": [
    "try:\n",
    "    inv_C = np.linalg.inv(C)\n",
    "    print(\"Inverse matrix calculated successfully.\")\n",
    "except np.linalg.LinAlgError:\n",
    "    print(\"Matrix is singular and cannot be inverted.\")"
   ]
  },
  {
   "cell_type": "code",
   "execution_count": 154,
   "id": "ef0d7fdb",
   "metadata": {},
   "outputs": [
    {
     "data": {
      "text/plain": [
       "48.61456561088562"
      ]
     },
     "execution_count": 154,
     "metadata": {},
     "output_type": "execute_result"
    }
   ],
   "source": [
    "end_time = time.time()\n",
    "time_taken = end_time - start_time\n",
    "time_taken"
   ]
  },
  {
   "cell_type": "code",
   "execution_count": null,
   "id": "f7577f71",
   "metadata": {},
   "outputs": [],
   "source": []
  }
 ],
 "metadata": {
  "kernelspec": {
   "display_name": "Python 3",
   "language": "python",
   "name": "python3"
  },
  "language_info": {
   "codemirror_mode": {
    "name": "ipython",
    "version": 3
   },
   "file_extension": ".py",
   "mimetype": "text/x-python",
   "name": "python",
   "nbconvert_exporter": "python",
   "pygments_lexer": "ipython3",
   "version": "3.13.5"
  }
 },
 "nbformat": 4,
 "nbformat_minor": 5
}
